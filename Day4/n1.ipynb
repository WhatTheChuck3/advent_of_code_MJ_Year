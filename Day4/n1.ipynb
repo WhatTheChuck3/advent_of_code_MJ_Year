{
 "cells": [
  {
   "cell_type": "code",
   "execution_count": 23,
   "metadata": {},
   "outputs": [
    {
     "name": "stdout",
     "output_type": "stream",
     "text": [
      "P1 is 27059\n",
      "P2 is 5744979\n"
     ]
    }
   ],
   "source": [
    "input = open('input.txt')\n",
    "summer = 0 \n",
    "summer1 = 0 \n",
    "copies = [1] * 1000\n",
    "index = 0\n",
    "\n",
    "for line in input.readlines():\n",
    "    row = line.replace('\\n','')\n",
    "    split1 = row.split(':')\n",
    "    split2 = split1[1].replace(\"  \",\" \").strip().split(\" | \")\n",
    "\n",
    "    winning_nums = split2[0].split(\" \")\n",
    "    nums = split2[1].split(\" \")\n",
    "    counter = 0\n",
    "    for num in nums:\n",
    "        if num in winning_nums:\n",
    "            counter += 1\n",
    "    \n",
    "    if counter > 0:\n",
    "        summer += 2**(counter - 1)\n",
    "        for i in range(0, counter):\n",
    "            copies[index + i + 1] = copies[index + i + 1] +  copies[index]\n",
    "\n",
    "    summer1 += copies[index]\n",
    "    index +=1\n",
    "    \n",
    "\n",
    "print('P1 is '+str(summer))\n",
    "print('P2 is '+str(summer1))\n"
   ]
  },
  {
   "cell_type": "code",
   "execution_count": 18,
   "metadata": {},
   "outputs": [
    {
     "name": "stdout",
     "output_type": "stream",
     "text": [
      "[1, 1, 1, 1, 1, 1, 1, 1, 1, 1, 1, 1, 1, 1, 1, 1, 1, 1, 1, 1, 1, 1, 1, 1, 1, 1, 1, 1, 1, 1, 1, 1, 1, 1, 1, 1, 1, 1, 1, 1, 1, 1, 1, 1, 1, 1, 1, 1, 1, 1, 1, 1, 1, 1, 1, 1, 1, 1, 1, 1, 1, 1, 1, 1, 1, 1, 1, 1, 1, 1, 1, 1, 1, 1, 1, 1, 1, 1, 1, 1, 1, 1, 1, 1, 1, 1, 1, 1, 1, 1, 1, 1, 1, 1, 1, 1, 1, 1, 1, 1]\n"
     ]
    }
   ],
   "source": [
    "print([1]*1000)\n"
   ]
  },
  {
   "cell_type": "code",
   "execution_count": null,
   "metadata": {},
   "outputs": [],
   "source": []
  }
 ],
 "metadata": {
  "kernelspec": {
   "display_name": "Python 3.10.4 64-bit",
   "language": "python",
   "name": "python3"
  },
  "language_info": {
   "codemirror_mode": {
    "name": "ipython",
    "version": 3
   },
   "file_extension": ".py",
   "mimetype": "text/x-python",
   "name": "python",
   "nbconvert_exporter": "python",
   "pygments_lexer": "ipython3",
   "version": "3.10.4"
  },
  "orig_nbformat": 4,
  "vscode": {
   "interpreter": {
    "hash": "aee8b7b246df8f9039afb4144a1f6fd8d2ca17a180786b69acc140d282b71a49"
   }
  }
 },
 "nbformat": 4,
 "nbformat_minor": 2
}
