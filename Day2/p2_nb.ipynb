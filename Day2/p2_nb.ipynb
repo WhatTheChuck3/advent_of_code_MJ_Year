{
 "cells": [
  {
   "cell_type": "code",
   "execution_count": 2,
   "metadata": {},
   "outputs": [
    {
     "name": "stdout",
     "output_type": "stream",
     "text": [
      "['Game', '1:', '3 green, 1 blue, 3 red; 3 blue, 1 green, 3 red; 2 red, 12 green, 7 blue; 1 red, 4 blue, 5 green; 7 green, 2 blue, 2 red']\n"
     ]
    }
   ],
   "source": [
    "\n",
    "\n",
    "row = input.readline().replace('\\n','')"
   ]
  },
  {
   "cell_type": "code",
   "execution_count": 26,
   "metadata": {},
   "outputs": [
    {
     "name": "stdout",
     "output_type": "stream",
     "text": [
      "1853\n",
      "72706\n"
     ]
    }
   ],
   "source": [
    "\n",
    "def test_row(row):\n",
    "    infeasible_bool = False\n",
    "    data = row.split(\" \", 2)\n",
    "    game_num = data[1][:-1]\n",
    "    pulls = data[2].split(\"; \")\n",
    "    max_cubes =  {\n",
    "        'red':0,\n",
    "        'green':0,\n",
    "        'blue':0\n",
    "    }\n",
    "\n",
    "    for pull in pulls:\n",
    "        counts = pull.split(\", \")\n",
    "        for count in counts:\n",
    "            count_results = count.split(\" \")\n",
    "            color = count_results[1]\n",
    "            count_cubes = int(count_results[0])\n",
    "            if cube_dict[color]  < count_cubes:\n",
    "                infeasible_bool = True\n",
    "            max_cubes[color] = max(max_cubes[color], count_cubes)\n",
    "\n",
    "    power_of_max_cubes = max_cubes['red'] * max_cubes['green'] * max_cubes['blue']        \n",
    "\n",
    "    if not infeasible_bool:\n",
    "        return [int(game_num), power_of_max_cubes]\n",
    "    else:\n",
    "        return [0, power_of_max_cubes]\n",
    "\n",
    "input = open('input_2.txt')\n",
    "\n",
    "cube_dict = {\n",
    "    'red':12,\n",
    "    'green':13,\n",
    "    'blue':14\n",
    "}\n",
    "summer = 0\n",
    "summer2 = 0\n",
    "\n",
    "# test = 'Game 100: 4 red, 3 green, 4 blue; 8 green, 5 red, 2 blue; 1 red, 2 blue, 7 green; 3 blue, 8 green, 5 red'\n",
    "\n",
    "for line in input.readlines():\n",
    "    \n",
    "    output = test_row(line.replace(\"\\n\",\"\"))\n",
    "    summer += output[0]\n",
    "    summer2 += output[1]\n",
    "\n",
    "print(summer)\n",
    "print(summer2)"
   ]
  }
 ],
 "metadata": {
  "kernelspec": {
   "display_name": "Python 3.10.4 64-bit",
   "language": "python",
   "name": "python3"
  },
  "language_info": {
   "codemirror_mode": {
    "name": "ipython",
    "version": 3
   },
   "file_extension": ".py",
   "mimetype": "text/x-python",
   "name": "python",
   "nbconvert_exporter": "python",
   "pygments_lexer": "ipython3",
   "version": "3.10.4"
  },
  "orig_nbformat": 4,
  "vscode": {
   "interpreter": {
    "hash": "aee8b7b246df8f9039afb4144a1f6fd8d2ca17a180786b69acc140d282b71a49"
   }
  }
 },
 "nbformat": 4,
 "nbformat_minor": 2
}
