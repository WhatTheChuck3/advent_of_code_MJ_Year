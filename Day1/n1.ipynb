{
 "cells": [
  {
   "cell_type": "code",
   "execution_count": 58,
   "metadata": {},
   "outputs": [
    {
     "name": "stdout",
     "output_type": "stream",
     "text": [
      "0 _ t\n",
      "3\n"
     ]
    },
    {
     "data": {
      "text/plain": [
       "'39'"
      ]
     },
     "execution_count": 58,
     "metadata": {},
     "output_type": "execute_result"
    }
   ],
   "source": [
    "def test_index_for_digits(calibration_string, index):\n",
    "    for j in range(3,6):\n",
    "        test_string = calibration_string[index:index+j]\n",
    "        if test_string in digit_dict[j]:\n",
    "            return digits_spelled.index(test_string) + 1\n",
    "    \n",
    "    return False\n",
    "\n",
    "def test_index_for_digits_reverse(calibration_string, index):\n",
    "    for j in range(3,6):\n",
    "        test_string = calibration_string[index:index+j]\n",
    "        if test_string in digit_dict_reverse[j]:\n",
    "            return digits_spelled.index(test_string[: :-1]) + 1\n",
    "    \n",
    "    return False\n",
    "\n",
    "def get_calibration_value_p2(calibration_in):\n",
    "    output = ''\n",
    "    for i, v in enumerate(calibration_in):\n",
    "        if v.isnumeric():\n",
    "            output += v\n",
    "            break\n",
    "        test_index_output = test_index_for_digits(calibration_in, i)\n",
    "        if test_index_output:\n",
    "            output += str(test_index_output)\n",
    "            break\n",
    "    \n",
    "    for i, v in enumerate(calibration_in[: :-1]):\n",
    "        if v.isnumeric():\n",
    "            output += v\n",
    "            break\n",
    "\n",
    "        test_index_output = test_index_for_digits_reverse(calibration_in[: :-1], i)\n",
    "\n",
    "        if test_index_output:\n",
    "            output += str(test_index_output)\n",
    "            break\n",
    "    return output\n"
   ]
  },
  {
   "cell_type": "code",
   "execution_count": 59,
   "metadata": {},
   "outputs": [
    {
     "name": "stdout",
     "output_type": "stream",
     "text": [
      "54239\n",
      "55343\n"
     ]
    }
   ],
   "source": [
    "def get_calibration_value_p1(calibration_in):\n",
    "    output = ''\n",
    "    for i, v in enumerate(calibration_in):\n",
    "        if v.isnumeric():\n",
    "            output += v\n",
    "            break\n",
    "    \n",
    "    for i, v in enumerate(calibration_in[: :-1]):\n",
    "        if v.isnumeric():\n",
    "            output += v\n",
    "            break\n",
    "    return output\n",
    "\n",
    "def test_index_for_digits(calibration_string, index):\n",
    "    for j in range(3,6):\n",
    "        test_string = calibration_string[index:index+j]\n",
    "        if test_string in digit_dict[j]:\n",
    "            return digits_spelled.index(test_string) + 1\n",
    "    \n",
    "    return False\n",
    "\n",
    "def test_index_for_digits_reverse(calibration_string, index):\n",
    "    for j in range(3,6):\n",
    "        test_string = calibration_string[index:index+j]\n",
    "        if test_string in digit_dict_reverse[j]:\n",
    "            return digits_spelled.index(test_string[: :-1]) + 1\n",
    "    \n",
    "    return False\n",
    "\n",
    "def get_calibration_value_p2(calibration_in):\n",
    "    output = ''\n",
    "    for i, v in enumerate(calibration_in):\n",
    "        if v.isnumeric():\n",
    "            output += v\n",
    "            break\n",
    "        test_index_output = test_index_for_digits(calibration_in, i)\n",
    "        if test_index_output:\n",
    "            output += str(test_index_output)\n",
    "            break\n",
    "    \n",
    "    for i, v in enumerate(calibration_in[: :-1]):\n",
    "        if v.isnumeric():\n",
    "            output += v\n",
    "            break\n",
    "\n",
    "        test_index_output = test_index_for_digits_reverse(calibration_in[: :-1], i)\n",
    "\n",
    "        if test_index_output:\n",
    "            output += str(test_index_output)\n",
    "            break\n",
    "    return output\n",
    "\n",
    "digits_spelled = ['one', 'two', 'three', 'four', 'five', 'six', 'seven', 'eight', 'nine']\n",
    "digit_dict = {}\n",
    "digit_dict_reverse = {}\n",
    "for i in range(3,6):\n",
    "    digit_dict[i] = [d for d in digits_spelled if len(d) == i]\n",
    "    digit_dict_reverse[i] = [d[: :-1] for d in digits_spelled if len(d) == i]\n",
    "\n",
    "input = open('input_i.txt')\n",
    "sum_p1 = 0 \n",
    "sum_p2 = 0\n",
    "for line in input.readlines():\n",
    "    sum_p1 += int(get_calibration_value_p1(line))\n",
    "    sum_p2 += int(get_calibration_value_p2(line))\n",
    "\n",
    "input.close()\n",
    "\n",
    "print(sum_p1)\n",
    "print(sum_p2)\n"
   ]
  },
  {
   "cell_type": "code",
   "execution_count": null,
   "metadata": {},
   "outputs": [],
   "source": []
  }
 ],
 "metadata": {
  "kernelspec": {
   "display_name": "Python 3.10.4 64-bit",
   "language": "python",
   "name": "python3"
  },
  "language_info": {
   "codemirror_mode": {
    "name": "ipython",
    "version": 3
   },
   "file_extension": ".py",
   "mimetype": "text/x-python",
   "name": "python",
   "nbconvert_exporter": "python",
   "pygments_lexer": "ipython3",
   "version": "3.10.4"
  },
  "orig_nbformat": 4,
  "vscode": {
   "interpreter": {
    "hash": "aee8b7b246df8f9039afb4144a1f6fd8d2ca17a180786b69acc140d282b71a49"
   }
  }
 },
 "nbformat": 4,
 "nbformat_minor": 2
}
