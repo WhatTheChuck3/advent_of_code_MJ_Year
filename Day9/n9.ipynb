{
 "cells": [
  {
   "cell_type": "code",
   "execution_count": 38,
   "metadata": {},
   "outputs": [
    {
     "name": "stdout",
     "output_type": "stream",
     "text": [
      "p1 is 1987402313\n",
      "p2 is 900\n"
     ]
    }
   ],
   "source": [
    "input = open('input.txt')\n",
    "readings = []\n",
    "\n",
    "for row in input.readlines():\n",
    "    readings.append(list(map(int,row.replace('\\n','').split())))\n",
    "\n",
    "summer1 = 0\n",
    "summer2 = 0\n",
    "for data in readings:\n",
    "    diff_list = [data]\n",
    "    diff_data = data\n",
    "    while not all(v == 0 for v in diff_data):\n",
    "        # print(diff_data)\n",
    "        new_deltas = [diff_data[n]-diff_data[n-1] for n in range(1, len(diff_data))]\n",
    "        diff_list.append(new_deltas)\n",
    "        diff_data = new_deltas\n",
    "        \n",
    "    # print(diff_list)\n",
    "    delta = 0\n",
    "    delta2 = 0\n",
    "    for i in range(1,len(diff_list)+1):\n",
    "        # print(str(diff_list[-1*i]) +' '+ str(diff_list[-1*i][-1] + delta))\n",
    "        delta += diff_list[-1*i][-1] \n",
    "        # print(str(diff_list[-1*i][0] - delta2)+' '+str(diff_list[-1*i]))\n",
    "        delta2 = diff_list[-1*i][0] - delta2\n",
    "    summer1 += delta\n",
    "    summer2 += delta2\n",
    "    # print(delta2)\n",
    "\n",
    "print('p1 is '+str(summer1))\n",
    "print('p2 is '+str(summer2))"
   ]
  }
 ],
 "metadata": {
  "kernelspec": {
   "display_name": "Python 3.10.4 64-bit",
   "language": "python",
   "name": "python3"
  },
  "language_info": {
   "codemirror_mode": {
    "name": "ipython",
    "version": 3
   },
   "file_extension": ".py",
   "mimetype": "text/x-python",
   "name": "python",
   "nbconvert_exporter": "python",
   "pygments_lexer": "ipython3",
   "version": "3.10.4"
  },
  "orig_nbformat": 4,
  "vscode": {
   "interpreter": {
    "hash": "aee8b7b246df8f9039afb4144a1f6fd8d2ca17a180786b69acc140d282b71a49"
   }
  }
 },
 "nbformat": 4,
 "nbformat_minor": 2
}
