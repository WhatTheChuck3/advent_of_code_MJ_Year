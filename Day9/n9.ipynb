{
 "cells": [
  {
   "cell_type": "code",
   "execution_count": 12,
   "metadata": {},
   "outputs": [
    {
     "name": "stdout",
     "output_type": "stream",
     "text": [
      "[[0, 3, 6, 9, 12, 15], [3, 3, 3, 3, 3], [0, 0, 0, 0]]\n",
      "18\n",
      "[[1, 3, 6, 10, 15, 21], [2, 3, 4, 5, 6], [1, 1, 1, 1], [0, 0, 0]]\n",
      "28\n",
      "[[10, 13, 16, 21, 30, 45], [3, 3, 5, 9, 15], [0, 2, 4, 6], [2, 2, 2], [0, 0]]\n",
      "68\n",
      "p1 is 114\n"
     ]
    }
   ],
   "source": [
    "input = open('input.txt')\n",
    "readings = []\n",
    "\n",
    "for row in input.readlines():\n",
    "    readings.append(list(map(int,row.replace('\\n','').split())))\n",
    "\n",
    "summer1 = 0\n",
    "for data in readings:\n",
    "    diff_list = [data]\n",
    "    diff_data = data\n",
    "    while sum(diff_data) > 0 :\n",
    "        new_deltas = [diff_data[n]-diff_data[n-1] for n in range(1, len(diff_data))]\n",
    "        diff_list.append(new_deltas)\n",
    "        diff_data = new_deltas\n",
    "    print(diff_list)\n",
    "    delta = 0\n",
    "    \n",
    "    for i in range(len(diff_list)):\n",
    "        delta += diff_list[-1*i][-1] \n",
    "    summer1 += delta\n",
    "    print(delta)\n",
    "\n",
    "print('p1 is '+str(summer1))"
   ]
  }
 ],
 "metadata": {
  "kernelspec": {
   "display_name": "Python 3.10.4 64-bit",
   "language": "python",
   "name": "python3"
  },
  "language_info": {
   "codemirror_mode": {
    "name": "ipython",
    "version": 3
   },
   "file_extension": ".py",
   "mimetype": "text/x-python",
   "name": "python",
   "nbconvert_exporter": "python",
   "pygments_lexer": "ipython3",
   "version": "3.10.4"
  },
  "orig_nbformat": 4,
  "vscode": {
   "interpreter": {
    "hash": "aee8b7b246df8f9039afb4144a1f6fd8d2ca17a180786b69acc140d282b71a49"
   }
  }
 },
 "nbformat": 4,
 "nbformat_minor": 2
}
