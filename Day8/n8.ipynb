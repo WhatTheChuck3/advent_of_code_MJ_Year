{
 "cells": [
  {
   "cell_type": "code",
   "execution_count": 68,
   "metadata": {},
   "outputs": [
    {
     "name": "stdout",
     "output_type": "stream",
     "text": [
      "First line: LRRLRRRLRRRLLRRLRRLRLRLRRLLRRLRRLRRRLLLRRRLRRRLRRRLLRRRLRRLLRRLRRLRLRRRLRRLRLRRLRRRLLRRLLRLRRRLLRRLRRLLLRLRRRLRLRLRLLRRRLRLLRRRLRLRRRLRRRLLRRLRRRLLRRLRLLRLRRLLLRRLRRLLLRLLRLRRRLRLRLRRRLRRLLRRRLRLRLRRLRRRLRLRRLRRLRRRLRRRLRRRLRRRLRRLLRRLRLLRRLLRRRLRLLRLRLRRLRRLRLRLRRRLRLRLRRLRLRRLRRRR\n",
      "p1 is 12169\n",
      "['HVA', 'HHA', 'BVA', 'RSA', 'AAA', 'NPA']\n",
      "6\n",
      "['KPZ', 'TNZ', 'BXZ', 'ZZZ', 'MLZ', 'RFZ']\n",
      "HVA is 14999\n",
      "This can repeat because it arrives there at the end of the map: 0\n",
      "HHA is 20093\n",
      "This can repeat because it arrives there at the end of the map: 0\n",
      "BVA is 17263\n",
      "This can repeat because it arrives there at the end of the map: 0\n",
      "RSA is 16697\n",
      "This can repeat because it arrives there at the end of the map: 0\n",
      "AAA is 12169\n",
      "This can repeat because it arrives there at the end of the map: 0\n",
      "NPA is 20659\n",
      "This can repeat because it arrives there at the end of the map: 0\n",
      "p2 is 12030780859469\n"
     ]
    }
   ],
   "source": [
    "\n",
    "import math\n",
    "\n",
    "input = open('input.txt')\n",
    "first_line = input.readline().replace('\\n','')\n",
    "print('First line: '+first_line)\n",
    "gap_line = input.readline()\n",
    "\n",
    "a_node_list = []\n",
    "z_node_list = []\n",
    "node_dict = {}\n",
    "max_steps = 1\n",
    "\n",
    "for line in input.readlines():\n",
    "\n",
    "    row = line.replace('\\n','')\n",
    "    data = row.split(' = ')\n",
    "    if data[0][2] == 'A':\n",
    "        a_node_list.append(data[0])\n",
    "    elif data[0][2] == 'Z':\n",
    "        z_node_list.append(data[0])\n",
    "    map = data[1].replace('(','').replace(')','').split(', ')\n",
    "    node_dict[data[0]] = {\n",
    "        'L': map[0],\n",
    "        'R':map[1]\n",
    "    }\n",
    "    # print(row)\n",
    "\n",
    "# print(node_dict)\n",
    "def get_steps(node, first_line, node_dict):\n",
    "    counter = 0\n",
    "    input_length = len(first_line)\n",
    "    while node[-1] != 'Z':\n",
    "        dir = first_line[counter % input_length]\n",
    "        node = node_dict[node][dir]\n",
    "        counter += 1\n",
    "    return counter\n",
    "    \n",
    "print('p1 is '+ str(get_steps('AAA',first_line, node_dict)))\n",
    "\n",
    "print(a_node_list)\n",
    "print(len(a_node_list))\n",
    "print(z_node_list)\n",
    "\n",
    "for node in a_node_list:\n",
    "    steps = get_steps(node,first_line, node_dict)\n",
    "    max_steps = math.lcm(steps,max_steps)\n",
    "    print(node+' is '+ str(steps))\n",
    "    print('This can repeat because it arrives there at the end of the map: '+str(steps%len(first_line)))\n",
    "\n",
    "print('p2 is '+str(max_steps))\n",
    "\n"
   ]
  }
 ],
 "metadata": {
  "kernelspec": {
   "display_name": "Python 3.10.4 64-bit",
   "language": "python",
   "name": "python3"
  },
  "language_info": {
   "codemirror_mode": {
    "name": "ipython",
    "version": 3
   },
   "file_extension": ".py",
   "mimetype": "text/x-python",
   "name": "python",
   "nbconvert_exporter": "python",
   "pygments_lexer": "ipython3",
   "version": "3.10.4"
  },
  "orig_nbformat": 4,
  "vscode": {
   "interpreter": {
    "hash": "aee8b7b246df8f9039afb4144a1f6fd8d2ca17a180786b69acc140d282b71a49"
   }
  }
 },
 "nbformat": 4,
 "nbformat_minor": 2
}
