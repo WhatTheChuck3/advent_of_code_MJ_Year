{
 "cells": [
  {
   "cell_type": "code",
   "execution_count": 26,
   "metadata": {},
   "outputs": [
    {
     "name": "stdout",
     "output_type": "stream",
     "text": [
      "403695602\n"
     ]
    }
   ],
   "source": [
    "#Idea is to create a lookup dict that will pass along next lookup + number\n",
    "# Then iterate through that until output = 'location'\n",
    "\n",
    "#Had to adjust from an array lookup to bounds logic because the numbers are so GD big\n",
    "\n",
    "input = open('input.txt')\n",
    "\n",
    "seeds = input.readline().replace('\\n','').split(\" \")[1:]\n",
    "map_bool = False\n",
    "map_dict  = {}\n",
    "\n",
    "for line in input.readlines():\n",
    "    row = line.replace('\\n','')\n",
    "\n",
    "    if len(line) == 1:\n",
    "        if map_bool:\n",
    "            map_dict[source] = {\n",
    "                'destination' : destination,\n",
    "                'map_arr' : destination_mapping_dict\n",
    "                }\n",
    "        map_bool = False\n",
    "\n",
    "        #enter info into dict\n",
    "    elif map_bool:\n",
    "        map_coords = row.split(\" \")\n",
    "        destination_start = int(map_coords[0])\n",
    "        source_start = int(map_coords[1])\n",
    "        range_length = int(map_coords[2])\n",
    "        destination_mapping_dict[str(source_start)+' | '+str(source_start+range_length-1)] = destination_start - source_start\n",
    "\n",
    "    else:\n",
    "        map_input = row.split(\" \")[0].split(\"-to-\")\n",
    "        map_bool = True\n",
    "        source = map_input[0]\n",
    "        destination = map_input[1]\n",
    "        destination_mapping_dict = {}\n",
    "        # destination_arr = list(range(0,99999999999)) ##this is so lame\n",
    "\n",
    "map_dict[source] = {\n",
    "    'destination' : destination,\n",
    "    'map_arr' : destination_mapping_dict\n",
    "}\n",
    "\n",
    "# print(map_dict)\n",
    "# Now lookup through the mappings\n",
    "def get_seed_output(seed, map_dict):\n",
    "    thing = 'seed'\n",
    "    # print('Seed: ' + str(seed))\n",
    "    idx = int(seed)\n",
    "    while thing != 'location':\n",
    "        map_entry = map_dict[thing]\n",
    "        thing = map_entry['destination']\n",
    "        for key, value in map_entry['map_arr'].items():\n",
    "            bounds = key.split(' | ')\n",
    "            if idx >= int(bounds[0]) and idx <= int(bounds[1]):\n",
    "                idx = idx + value\n",
    "                break\n",
    "    return idx\n",
    "\n",
    "locations = []\n",
    "\n",
    "for seed in seeds:\n",
    "    location = get_seed_output(seed, map_dict)\n",
    "        # print(thing + ' '+ str(idx))\n",
    "    locations.append(location)\n",
    "    # print(idx)\n",
    "\n",
    "print(min(locations))\n",
    "\n",
    "\n",
    "\n"
   ]
  },
  {
   "cell_type": "code",
   "execution_count": 40,
   "metadata": {},
   "outputs": [
    {
     "name": "stdout",
     "output_type": "stream",
     "text": [
      "Testing seeds\n",
      "Testing seeds 629551616 to 939855513 via 14776 buckets of size 21000\n",
      "Testing seeds\n",
      "Testing seeds 265998072 to 324089925 via 2766 buckets of size 21000\n",
      "Testing seeds\n",
      "Testing seeds 3217788227 to 3781536892 via 26845 buckets of size 21000\n",
      "Testing seeds\n",
      "Testing seeds 2286940694 to 3107744001 via 39085 buckets of size 21000\n",
      "Testing seeds\n",
      "Testing seeds 1966060902 to 2074759731 via 5176 buckets of size 21000\n",
      "Testing seeds\n",
      "Testing seeds 190045874 to 193252136 via 152 buckets of size 21000\n",
      "Testing seeds\n",
      "Testing seeds 4045963015 to 4269624552 via 10650 buckets of size 21000\n",
      "Testing seeds\n",
      "Testing seeds 1544688274 to 1838384858 via 13985 buckets of size 21000\n",
      "Testing seeds\n",
      "Testing seeds 1038807941 to 1070564819 via 1512 buckets of size 21000\n",
      "Testing seeds\n",
      "Testing seeds 1224711373 to 1358358797 via 6364 buckets of size 21000\n",
      "219545664 on seed 1563525274\n",
      "219529182 on seed 1358355373 post final search\n"
     ]
    }
   ],
   "source": [
    "\n",
    "p2_min = 999999999999999\n",
    "min_seed = 0\n",
    "min_bucket_size = 0\n",
    "for j in range(0, len(seeds), 2):\n",
    "    print('Testing seeds')\n",
    "    start_seed = int(seeds[j])\n",
    "    end_seed = int(seeds[j])+int(seeds[j+1])\n",
    "    bucket_size = 21000\n",
    "    buckets = int((end_seed-start_seed)/bucket_size)\n",
    "    # buckets = 100000\n",
    "    # bucket_size = int((end_seed-start_seed)/buckets)\n",
    "\n",
    "\n",
    "    print('Testing seeds '+str(start_seed)+ ' to '+str(end_seed)+' via '+str(buckets)+' buckets of size '+str(bucket_size))\n",
    "    for k in range(start_seed, end_seed, bucket_size):\n",
    "        location = get_seed_output(k, map_dict)\n",
    "        if (location < p2_min):\n",
    "            p2_min = location\n",
    "            min_seed = k\n",
    "            min_bucket_size = bucket_size\n",
    "\n",
    "print(str(p2_min) + ' on seed '+ str(min_seed))\n",
    "\n",
    "for h in range(min_seed-min_bucket_size+1, min_seed+min_bucket_size -1 ):\n",
    "    location = get_seed_output(h, map_dict)\n",
    "    if (location < p2_min):\n",
    "        p2_min = location\n",
    "        min_seed = k\n",
    "\n",
    "        \n",
    "print(str(p2_min) + ' on seed '+ str(min_seed)+ ' post final search')\n"
   ]
  },
  {
   "cell_type": "code",
   "execution_count": 18,
   "metadata": {},
   "outputs": [
    {
     "name": "stdout",
     "output_type": "stream",
     "text": [
      "55\n"
     ]
    }
   ],
   "source": [
    "print(start_seed)\n",
    "219529182"
   ]
  },
  {
   "cell_type": "code",
   "execution_count": null,
   "metadata": {},
   "outputs": [],
   "source": []
  }
 ],
 "metadata": {
  "kernelspec": {
   "display_name": "Python 3.10.4 64-bit",
   "language": "python",
   "name": "python3"
  },
  "language_info": {
   "codemirror_mode": {
    "name": "ipython",
    "version": 3
   },
   "file_extension": ".py",
   "mimetype": "text/x-python",
   "name": "python",
   "nbconvert_exporter": "python",
   "pygments_lexer": "ipython3",
   "version": "3.10.4"
  },
  "orig_nbformat": 4,
  "vscode": {
   "interpreter": {
    "hash": "aee8b7b246df8f9039afb4144a1f6fd8d2ca17a180786b69acc140d282b71a49"
   }
  }
 },
 "nbformat": 4,
 "nbformat_minor": 2
}
