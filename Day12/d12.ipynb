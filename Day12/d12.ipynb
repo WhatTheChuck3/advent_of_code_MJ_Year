{
 "cells": [
  {
   "cell_type": "code",
   "execution_count": 22,
   "metadata": {},
   "outputs": [
    {
     "name": "stdout",
     "output_type": "stream",
     "text": [
      "p1 is 7705\n",
      "p2 is 50338344809230\n"
     ]
    }
   ],
   "source": [
    "input = open('input.txt').read().splitlines()\n",
    "summer1 = 0\n",
    "summer2 = 0\n",
    "\n",
    "def get_combs(spring, counts, spring_ind, count_ind):\n",
    "    map = {}\n",
    "\n",
    "    def check_comb(spring_ind, count_ind, spring, counts):\n",
    "        # print(str(spring_ind)+','+str(count_ind)+' '+counts)\n",
    "        if (spring_ind, count_ind, counts) in map:\n",
    "            return map[(spring_ind, count_ind, counts)]\n",
    "\n",
    "        ## Check for case where it works through one of either whole string\n",
    "        if spring_ind == len(spring) and count_ind == len(counts):\n",
    "            # print('That works')\n",
    "            return 1\n",
    "        elif count_ind == len(counts):\n",
    "            return 0\n",
    "        elif spring_ind == len(spring):\n",
    "            if counts[count_ind] == 'W':\n",
    "                return check_comb(spring_ind, count_ind + 1, spring, counts)\n",
    "            return 0\n",
    "\n",
    "        ## Otherwise work through the string\n",
    "        else:\n",
    "            res = 0\n",
    "            #They match, or assigned ? to # so they do, then proceed\n",
    "            if (spring[spring_ind] == '#' or spring[spring_ind] == '?') and counts[count_ind] == '#':\n",
    "                res += check_comb(spring_ind + 1, count_ind + 1, spring, counts)\n",
    "\n",
    "            #W are wild(can be any sequence of ? or .), so add a . and check (add 1 to i) or move on (skip the *, add 1 to j)    \n",
    "            elif (spring[spring_ind] == '?' or spring[spring_ind] == '.') and counts[count_ind] == 'W':\n",
    "                res += check_comb(spring_ind + 1, count_ind, spring, counts)\n",
    "                res += check_comb(spring_ind, count_ind + 1, spring, counts)\n",
    "\n",
    "            ## cant be matched by # (as its on the ends), so just skip ahead\n",
    "            elif spring[spring_ind] == '#' and counts[count_ind] == 'W':\n",
    "                res += check_comb(spring_ind, count_ind + 1, spring, counts)\n",
    "\n",
    "            # replace the + with a *, and then check the next spring    \n",
    "            elif (spring[spring_ind] == '?' or spring[spring_ind] == '.') and counts[count_ind] == '+':\n",
    "                res += check_comb(spring_ind + 1, count_ind, spring, counts[:count_ind] + 'W' + counts[count_ind + 1:])\n",
    "        map[(spring_ind, count_ind, counts)] = res\n",
    "        return res\n",
    "    \n",
    "    return check_comb(spring_ind, count_ind, spring, counts)    \n",
    "\n",
    "\n",
    "for row in input:\n",
    "    data = row.split()\n",
    "    springs = data[0]\n",
    "    springs2 = '?'.join([''.join(springs)]*5)\n",
    "    counts = 'W'+'+'.join(['#' * int(n) for n in data[1].split(',')])+'W'\n",
    "    counts2 = 'W'+'+'.join(['#' * int(n) for n in data[1].split(',')]*5)+'W'\n",
    "    # print(springs)\n",
    "    # print(counts)\n",
    "    # print(springs2)\n",
    "    # print(counts2)\n",
    "    row_count = get_combs(springs, counts, 0, 0)\n",
    "    row_count2 = get_combs(springs2, counts2, 0, 0)\n",
    "    # print(row_count2)\n",
    "    summer1 += row_count\n",
    "    summer2 += row_count2\n",
    "\n",
    "print('p1 is '+ str(summer1))\n",
    "print('p2 is '+ str(summer2))"
   ]
  }
 ],
 "metadata": {
  "kernelspec": {
   "display_name": "Python 3.10.4 64-bit",
   "language": "python",
   "name": "python3"
  },
  "language_info": {
   "codemirror_mode": {
    "name": "ipython",
    "version": 3
   },
   "file_extension": ".py",
   "mimetype": "text/x-python",
   "name": "python",
   "nbconvert_exporter": "python",
   "pygments_lexer": "ipython3",
   "version": "3.10.4"
  },
  "orig_nbformat": 4,
  "vscode": {
   "interpreter": {
    "hash": "aee8b7b246df8f9039afb4144a1f6fd8d2ca17a180786b69acc140d282b71a49"
   }
  }
 },
 "nbformat": 4,
 "nbformat_minor": 2
}
